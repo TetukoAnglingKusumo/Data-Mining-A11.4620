{
  "nbformat": 4,
  "nbformat_minor": 0,
  "metadata": {
    "colab": {
      "name": "Untitled9.ipynb",
      "provenance": []
    },
    "kernelspec": {
      "name": "python3",
      "display_name": "Python 3"
    },
    "language_info": {
      "name": "python"
    }
  },
  "cells": [
    {
      "cell_type": "code",
      "execution_count": 1,
      "metadata": {
        "colab": {
          "base_uri": "https://localhost:8080/",
          "height": 157
        },
        "id": "Bf0GIylGTshM",
        "outputId": "767ee836-47d7-45e6-c66d-3fe004855add"
      },
      "outputs": [
        {
          "output_type": "stream",
          "name": "stdout",
          "text": [
            "Output Layer Output (Linear)\n",
            "===============================\n",
            "[[22.99999472]\n",
            " [25.999994  ]\n",
            " [28.99999328]\n",
            " [31.99999256]] \n",
            "\n"
          ]
        },
        {
          "output_type": "execute_result",
          "data": {
            "text/plain": [
              "'\\n[[22.99999472]\\n [25.999994]\\n [28.99999328]\\n [31.99999256]]\\n'"
            ],
            "application/vnd.google.colaboratory.intrinsic+json": {
              "type": "string"
            }
          },
          "metadata": {},
          "execution_count": 1
        }
      ],
      "source": [
        "import numpy as np\n",
        "\n",
        "def forwardPass(inputs, weight, bias):\n",
        "  w_sum = np.dot(inputs, weight) + bias\n",
        "\n",
        "  # Linear Activation f(x) = x\n",
        "  act = w_sum\n",
        "\n",
        "  return act\n",
        "\n",
        "# Pre-Trained Weights & Biases after Training\n",
        "W = np.array([[2.99999928]])\n",
        "b = np.array([1.99999976])\n",
        "\n",
        "# Initialize Input Data\n",
        "inputs = np.array([[7], [8], [9], [10]])\n",
        "\n",
        "# Output of Output Layer\n",
        "o_out = forwardPass(inputs, W, b)\n",
        "\n",
        "print('Output Layer Output (Linear)')\n",
        "print('===============================')\n",
        "print(o_out, \"\\n\")\n",
        "\n",
        "\"\"\"\n",
        "[[22.99999472]\n",
        " [25.999994]\n",
        " [28.99999328]\n",
        " [31.99999256]]\n",
        "\"\"\""
      ]
    }
  ]
}